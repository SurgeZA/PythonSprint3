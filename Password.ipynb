{
 "cells": [
  {
   "cell_type": "code",
   "execution_count": 29,
   "metadata": {},
   "outputs": [
    {
     "name": "stdout",
     "output_type": "stream",
     "text": [
      "b3$e1@d2$\n"
     ]
    },
    {
     "data": {
      "text/plain": [
       "'b3$e1@d2$'"
      ]
     },
     "execution_count": 29,
     "metadata": {},
     "output_type": "execute_result"
    }
   ],
   "source": [
    "import random\n",
    "import time\n",
    "\n",
    "def password(length):\n",
    "    pw = str()\n",
    "    characters = \"abcdef\"\n",
    "    numbers = \"12345\"\n",
    "    specialcharacters = \"!@$\"\n",
    "    for i in range(length):\n",
    "        pw = pw + random.choice(characters) + random.choice(numbers) + random.choice(specialcharacters)\n",
    "        \n",
    "    print(pw)\n",
    "    return pw\n",
    "\n",
    "password (3)\n"
   ]
  },
  {
   "cell_type": "code",
   "execution_count": null,
   "metadata": {},
   "outputs": [],
   "source": []
  },
  {
   "cell_type": "code",
   "execution_count": null,
   "metadata": {},
   "outputs": [],
   "source": []
  }
 ],
 "metadata": {},
 "nbformat": 4,
 "nbformat_minor": 4
}
